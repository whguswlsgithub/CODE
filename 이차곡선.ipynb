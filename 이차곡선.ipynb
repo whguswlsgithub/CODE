{
 "cells": [
  {
   "cell_type": "code",
   "execution_count": 17,
   "id": "81d6f312",
   "metadata": {},
   "outputs": [],
   "source": [
    "import numpy as np\n",
    "import matplotlib as mpl\n",
    "import matplotlib.pyplot as plt\n",
    "import math\n",
    "import sympy\n",
    "from sympy import *"
   ]
  },
  {
   "cell_type": "code",
   "execution_count": 18,
   "id": "b3a4c35e",
   "metadata": {},
   "outputs": [],
   "source": [
    "def axes():\n",
    "    plt.axhline(0, alpha=.1)\n",
    "    plt.axvline(0, alpha=.1)\n",
    "mpl.rcParams['lines.color'] = 'k'\n",
    "mpl.rcParams['axes.prop_cycle'] = mpl.cycler('color', ['k'])\n",
    "x = np.linspace(-15, 15, 1000) # 그래프의 x축 출력 범위 설정\n",
    "y = np.linspace(-15, 15, 1000) # 그래프의 y축 출력 범위 설정\n",
    "x, y = np.meshgrid(x, y)\n",
    "u, v = symbols('x, y')\n",
    "\n",
    "# 그래프 출력 기본 설정"
   ]
  },
  {
   "cell_type": "code",
   "execution_count": 19,
   "id": "03329326",
   "metadata": {},
   "outputs": [],
   "source": [
    "# ax^2 + bxy + cy^2 + dx + ey + f = 0\n",
    "a, b, c, d, e, f = 1, 1, 1, 1, 1, -30 \n",
    "\n",
    "# 이차곡선 계수 설정 \n",
    "\n",
    "A = 'x'\n",
    "\n",
    "# 이차곡선의 축이 x축과 평행하면 A='x', y축과 평행하면 A='y'"
   ]
  },
  {
   "cell_type": "code",
   "execution_count": 20,
   "id": "c8238953",
   "metadata": {},
   "outputs": [
    {
     "data": {
      "text/latex": [
       "$\\displaystyle \\left[\\begin{matrix}\\frac{1}{2} & 0\\\\0 & \\frac{3}{2}\\end{matrix}\\right]$"
      ],
      "text/plain": [
       "Matrix([\n",
       "[1/2,   0],\n",
       "[  0, 3/2]])"
      ]
     },
     "execution_count": 20,
     "metadata": {},
     "output_type": "execute_result"
    }
   ],
   "source": [
    "t1 = (a+c-math.sqrt((a-c)*(a-c)+b*b))/2\n",
    "t2 = (a+c+math.sqrt((a-c)*(a-c)+b*b))/2\n",
    "\n",
    "t_1 = (a+c-sympy.sqrt((a-c)*(a-c)+b*b))/2\n",
    "t_2 = (a+c+sympy.sqrt((a-c)*(a-c)+b*b))/2\n",
    "\n",
    "if A == 'x':\n",
    "    D = Matrix([[t_1, 0], [0, t_2]])\n",
    "    \n",
    "elif A == 'y':\n",
    "    D = Matrix([[t_2, 0], [0, t_1]])\n",
    "\n",
    "D\n",
    "\n",
    "# 고윳값 계산"
   ]
  },
  {
   "cell_type": "code",
   "execution_count": 21,
   "id": "6113f084",
   "metadata": {},
   "outputs": [
    {
     "data": {
      "text/latex": [
       "$\\displaystyle \\left[\\begin{matrix}\\frac{\\sqrt{2}}{2} & \\frac{\\sqrt{2}}{2}\\\\- \\frac{\\sqrt{2}}{2} & \\frac{\\sqrt{2}}{2}\\end{matrix}\\right]$"
      ],
      "text/plain": [
       "Matrix([\n",
       "[ sqrt(2)/2, sqrt(2)/2],\n",
       "[-sqrt(2)/2, sqrt(2)/2]])"
      ]
     },
     "execution_count": 21,
     "metadata": {},
     "output_type": "execute_result"
    }
   ],
   "source": [
    "s1=math.sqrt((t2-a)/(t2-t1))\n",
    "s2=b/(2*(t2-t1)*s1)\n",
    "s3=2*(t1-a)*s1/b\n",
    "s4=(t2-a)/((t2-t1)*s1)\n",
    "\n",
    "s_1=sympy.sqrt((t_2-a)/(t_2-t_1))\n",
    "s_2=b/(2*(t_2-t_1)*s_1)\n",
    "s_3=2*(t_1-a)*s_1/b\n",
    "s_4=(t_2-a)/((t_2-t_1)*s_1)\n",
    "\n",
    "if A == 'x':\n",
    "    P = Matrix([[s_1, s_2], [s_3, s_4]])\n",
    "    \n",
    "elif A == 'y':\n",
    "    P = Matrix([[s_4, s_3], [s_2, s_1]])\n",
    "P\n",
    "\n",
    "# 회전변환 행렬 성분 설정"
   ]
  },
  {
   "cell_type": "code",
   "execution_count": 22,
   "id": "4481cc6e",
   "metadata": {},
   "outputs": [],
   "source": [
    "if A == 'x':\n",
    "    g=t1\n",
    "    h=t2\n",
    "    i=d*s1+e*s3\n",
    "    j=d*s2+e*s4\n",
    "    k=f\n",
    "\n",
    "    g_s=t_1\n",
    "    h_s=t_2\n",
    "    i_s=d*s_1+e*s_3\n",
    "    j_s=d*s_2+e*s_4\n",
    "    k_s=f\n",
    "\n",
    "elif A == 'y':\n",
    "    g=t2\n",
    "    h=t1\n",
    "    i=d*s4+e*s2\n",
    "    j=d*s3+e*s1\n",
    "    k=f\n",
    "\n",
    "    g_s=t_2\n",
    "    h_s=t_1\n",
    "    i_s=d*s_4+e*s_2\n",
    "    j_s=d*s_3+e*s_1\n",
    "    k_s=f\n",
    "\n",
    "# 이차곡선 표준형 계수 설정"
   ]
  },
  {
   "cell_type": "code",
   "execution_count": 23,
   "id": "dab13b90",
   "metadata": {
    "scrolled": true
   },
   "outputs": [
    {
     "data": {
      "image/png": "[encoded data removed]",
      "text/plain": [
       "<Figure size 432x288 with 1 Axes>"
      ]
     },
     "metadata": {
      "needs_background": "light"
     },
     "output_type": "display_data"
    },
    {
     "data": {
      "text/latex": [
       "$\\displaystyle x^{2} + x y + x + y^{2} + y - 30 = 0$"
      ],
      "text/plain": [
       "Eq(x**2 + x*y + x + y**2 + y - 30, 0)"
      ]
     },
     "execution_count": 23,
     "metadata": {},
     "output_type": "execute_result"
    }
   ],
   "source": [
    "axes()\n",
    "plt.contour(x, y, (a*x**2+b*x*y+c*y**2+d*x+e*y+f), [0], colors='k')\n",
    "plt.show()\n",
    "\n",
    "eqn1 = Eq(a*u**2+b*u*v+c*v**2+d*u+e*v+f, 0)\n",
    "eqn1\n",
    "\n",
    "# 기존 이차곡선 출력"
   ]
  },
  {
   "cell_type": "code",
   "execution_count": 24,
   "id": "88152eac",
   "metadata": {},
   "outputs": [
    {
     "data": {
      "image/png": "[encoded data removed]",
      "text/plain": [
       "<Figure size 432x288 with 1 Axes>"
      ]
     },
     "metadata": {
      "needs_background": "light"
     },
     "output_type": "display_data"
    },
    {
     "data": {
      "text/latex": [
       "$\\displaystyle \\frac{x^{2}}{2} + \\frac{3 y^{2}}{2} + \\sqrt{2} y - 30 = 0$"
      ],
      "text/plain": [
       "Eq(x**2/2 + 3*y**2/2 + sqrt(2)*y - 30, 0)"
      ]
     },
     "execution_count": 24,
     "metadata": {},
     "output_type": "execute_result"
    }
   ],
   "source": [
    "axes()\n",
    "plt.contour(x, y, (g*x**2+h*y**2+i*x+j*y+k), [0], colors='k')\n",
    "plt.show()\n",
    "\n",
    "eqn2 = Eq(g_s*u**2+h_s*v**2+i_s*u+j_s*v+k_s, 0)\n",
    "eqn2\n",
    "\n",
    "# 이차곡선 표준형 출력"
   ]
  }
 ],
 "metadata": {
  "kernelspec": {
   "display_name": "Python 3 (ipykernel)",
   "language": "python",
   "name": "python3"
  },
  "language_info": {
   "codemirror_mode": {
    "name": "ipython",
    "version": 3
   },
   "file_extension": ".py",
   "mimetype": "text/x-python",
   "name": "python",
   "nbconvert_exporter": "python",
   "pygments_lexer": "ipython3",
   "version": "3.9.12"
  }
 },
 "nbformat": 4,
 "nbformat_minor": 5
}
